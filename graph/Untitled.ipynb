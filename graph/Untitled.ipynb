{
 "cells": [
  {
   "cell_type": "code",
   "execution_count": 28,
   "id": "270703b8",
   "metadata": {},
   "outputs": [],
   "source": [
    "import json\n",
    "import networkx as nx\n",
    "import community\n",
    "\n",
    "# Load JSON data into a Python dictionary\n",
    "with open('preprocessed.json', 'r') as f:\n",
    "    data = json.load(f)\n",
    "\n",
    "# Convert the combined data to a list of edges\n",
    "edges = []\n",
    "for key, value in data.items():\n",
    "    nodes = key.split('-')\n",
    "    edge = (nodes[0], nodes[1], value)\n",
    "    edges.append(edge)\n",
    "    \n",
    "G = nx.Graph()\n",
    "G.add_weighted_edges_from(edges)"
   ]
  },
  {
   "cell_type": "code",
   "execution_count": 29,
   "id": "76a774c0",
   "metadata": {},
   "outputs": [],
   "source": [
    "def girvan_newman_algorithm(G):\n",
    "    # calculate initial betweenness centrality of all edges\n",
    "    betweenness = nx.edge_betweenness_centrality(G)\n",
    "    \n",
    "    while len(G.edges()) > 0:\n",
    "        # remove edge with highest betweenness centrality\n",
    "        max_edge = max(betweenness, key=betweenness.get)\n",
    "        G.remove_edge(*max_edge)\n",
    "        \n",
    "        # recalculate betweenness centrality of remaining edges\n",
    "        betweenness = nx.edge_betweenness_centrality(G)\n",
    "        \n",
    "        # check if the graph has been split into disconnected components\n",
    "        if nx.number_connected_components(G) > 1:\n",
    "            # if so, return the list of communities\n",
    "            communities = list(nx.connected_components(G))\n",
    "            return communities\n",
    "    \n",
    "    # if no disconnected components are found, return the original graph as a single community\n",
    "    return [set(G.nodes())]"
   ]
  },
  {
   "cell_type": "code",
   "execution_count": 30,
   "id": "2694c496",
   "metadata": {},
   "outputs": [
    {
     "data": {
      "image/png": "[encoded data removed]",
      "text/plain": [
       "<Figure size 640x480 with 1 Axes>"
      ]
     },
     "metadata": {},
     "output_type": "display_data"
    }
   ],
   "source": [
    "import matplotlib.pyplot as plt\n",
    "\n",
    "# run the Girvan-Newman algorithm on a test graph\n",
    "communities = girvan_newman_algorithm(G)\n",
    "\n",
    "# plot the graph with nodes colored by their community membership\n",
    "pos = nx.spring_layout(G)\n",
    "colors = ['r', 'g', 'b', 'y', 'c', 'm']\n",
    "for i, community in enumerate(communities):\n",
    "    nx.draw_networkx_nodes(G, pos, nodelist=list(community), node_color=colors[i % len(colors)])\n",
    "nx.draw_networkx_edges(G, pos)\n",
    "plt.show()"
   ]
  },
  {
   "cell_type": "code",
   "execution_count": null,
   "id": "f5f32125",
   "metadata": {},
   "outputs": [],
   "source": []
  }
 ],
 "metadata": {
  "kernelspec": {
   "display_name": "Python 3 (ipykernel)",
   "language": "python",
   "name": "python3"
  },
  "language_info": {
   "codemirror_mode": {
    "name": "ipython",
    "version": 3
   },
   "file_extension": ".py",
   "mimetype": "text/x-python",
   "name": "python",
   "nbconvert_exporter": "python",
   "pygments_lexer": "ipython3",
   "version": "3.10.11"
  }
 },
 "nbformat": 4,
 "nbformat_minor": 5
}
